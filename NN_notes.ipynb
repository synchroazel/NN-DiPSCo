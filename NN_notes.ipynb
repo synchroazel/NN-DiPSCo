{
 "cells": [
  {
   "cell_type": "markdown",
   "id": "e0794775",
   "metadata": {
    "pycharm": {
     "name": "#%% md\n"
    }
   },
   "source": [
    "# Simple Neuron\n",
    "\n",
    "An artificial neuron is a mathematical function conceived as a model of biological neurons, a neural network.\n",
    "\n",
    "The artificial neuron:\n",
    "\n",
    "1. receives one or more inputs\n",
    "2. sums them to produce an output (usually each input is separately weighted, but not in this simple case)\n",
    "3. the sum is passed through a non-linear function known as an activation function\n",
    "\n",
    "Such function usually has a sigmoid shape, but they may also take the form of other non-linear functions."
   ]
  },
  {
   "cell_type": "code",
   "execution_count": 1,
   "id": "a34cbb3f",
   "metadata": {
    "pycharm": {
     "name": "#%%\n"
    }
   },
   "outputs": [],
   "source": [
    "\n",
    "import operator\n",
    "\n",
    "class myNeuron:\n",
    "    \n",
    "    def __init__(self, thres, op='>='):    \n",
    "        self.thres = thres\n",
    "        ops = {'>': operator.gt,\n",
    "               '<': operator.lt,\n",
    "               '>=': operator.ge,\n",
    "               '<=': operator.le,\n",
    "               '==': operator.eq}\n",
    "        \n",
    "        self.op = ops[op]\n",
    "        \n",
    "    def fire(self,x):\n",
    "        s = np.sum(x)  \n",
    "        if self.op(s,self.thres):\n",
    "            return 1\n",
    "        else:\n",
    "            return 0\n"
   ]
  },
  {
   "cell_type": "markdown",
   "id": "a60044c0",
   "metadata": {
    "pycharm": {
     "name": "#%% md\n"
    }
   },
   "source": [
    "**NOTE** that the 'operators' part is totally skippable. It is just there because you may want to conceive a neuron that activate if the sum of inputs is *below*, *equal to* or *strictly lower/bigger* than the threshold. Such neurons in fact do exists in nature (inhibitory neurons)."
   ]
  },
  {
   "cell_type": "markdown",
   "id": "e60a0d32",
   "metadata": {
    "pycharm": {
     "name": "#%% md\n"
    }
   },
   "source": [
    "We can now test our new class ```myNeuron``` and test whether it fires or not in different situations:"
   ]
  },
  {
   "cell_type": "code",
   "execution_count": 2,
   "id": "ae7d468d",
   "metadata": {
    "pycharm": {
     "name": "#%%\n"
    }
   },
   "outputs": [
    {
     "data": {
      "text/plain": [
       "1"
      ]
     },
     "execution_count": 2,
     "metadata": {},
     "output_type": "execute_result"
    }
   ],
   "source": [
    "n = myNeuron(5) # create a node with a threshold of 5\n",
    "\n",
    "n.fire([2,1]) # should NOT fire\n",
    "n.fire([2,3]) # should fire\n",
    "n.fire([6,8]) # should fire"
   ]
  },
  {
   "cell_type": "markdown",
   "id": "a7621880",
   "metadata": {
    "pycharm": {
     "name": "#%% md\n"
    }
   },
   "source": [
    "# The Perceptron\n",
    "\n",
    "In machine learning, the perceptron is an algorithm for *supervised learning* of binary classifiers. A binary classifier is a function which can decide whether or not an input, represented by a vector of numbers, belongs to some specific class. It is a type of linear classifier, i.e. a classification algorithm that makes its predictions based on a linear predictor function combining a set of weights with the feature vector."
   ]
  },
  {
   "cell_type": "markdown",
   "id": "cf3dd75d",
   "metadata": {
    "pycharm": {
     "name": "#%% md\n"
    }
   },
   "source": [
    "Let's briefly discuss the methods included in ```myPerceptron```.\n",
    "\n",
    "<br>\n",
    "\n",
    "The <b>activation function</b> method, is the before mentioned function which 'decides' whether the neuron fires or not (or in other words whether the answer of the Perceptron is 0 or 1). The Perceptron use a <i>step function</i> (the simplest activation function) which returns 1 if the received input is above 0 and 0 otherwise - like the neuron from before, but with 0 as threshold.\n",
    "\n",
    "The <b>predict</b> method make, of course, predictions. Given the current set of weights and bias of the Perceptron, it takes as an input a list of features and try to predict a target value. In fact, <tt>z</tt> is the weighted sum of the input values it receives (namely, the <i>dot product</i> between weights and input features). Then, <tt>z</tt> is passed through the activation function to return a prediction, which is appended to predictions array <tt>pred</tt>.\n",
    "\n",
    "The <b>train</b> method is the most peculiar one. At first, it assigns randomly a bias (one) and a set of weights (equal to the number of features of the dataset). Then a couple of loops control the training process. Untill convergence is met (the Perceptron produce 0 errors) or the maximum number of epochs is reached, the Perceptron takes every set of features, makes a weighted sum, passes the output through the activation function and then compares the result with the actual corresponding target value. If the error is ≠ 0 the magic happens: both the weights and the bias are changed, according to the set <i>learning rate</i> (the <tt>lr</tt> parameter). Setting a good learning rate is crucial: small <tt>lr</tt> means little chance of improving the accuracy in the next epoch, while a too big <tt>lr</tt> is too rough and also means little to no chance of converging over epochs. Also remember the bias is unique, while the weights are as many as the features of your dataset. At the end of an epoch (each cycle) the loss function is computed, to evaluate the overall error of the Perceptron. Similarly to what happens with activation functions, one can choose different kinds of loss functions. In this case, as a measure of loss we just consider the absolute difference between the actual target values Y and the prediction of the Perceptron at its current state. It is useful to store info about loss at each epochs, so later we can plot the loss curve, that shows how rapidly we got to convergence."
   ]
  },
  {
   "cell_type": "code",
   "execution_count": 3,
   "id": "df4cc330",
   "metadata": {
    "pycharm": {
     "name": "#%%\n"
    }
   },
   "outputs": [],
   "source": [
    "import numpy as np\n",
    "\n",
    "\n",
    "class myPerceptron:\n",
    "\n",
    "    def activaction_function(self, z):  # step function\n",
    "\n",
    "        if z >= 0:\n",
    "            return 1\n",
    "        else:\n",
    "            return 0\n",
    "\n",
    "    def predict(self, X):\n",
    "\n",
    "        pred = list()\n",
    "\n",
    "        for i in range(X.shape[0]):\n",
    "            z = np.dot(self.w, X[i, :]) + self.b\n",
    "            pred.append(self.activaction_function(z))\n",
    "        return np.array(pred)\n",
    "\n",
    "    def train(self, X, y, lr=.01, max_ep=1000, verbose=False):\n",
    "\n",
    "        self.w = np.random.rand(X.shape[1])\n",
    "        self.b = np.random.rand()\n",
    "\n",
    "        self.cost = list()\n",
    "        epoch = 0\n",
    "        converged = False\n",
    "\n",
    "        while not converged and epoch <= max_ep:\n",
    "\n",
    "            for i in range(len(y)):\n",
    "\n",
    "                z = np.dot(self.w, X[i, :]) + self.b\n",
    "                a = self.activaction_function(z)\n",
    "\n",
    "                error = y[i] - a\n",
    "\n",
    "                if error != 0:\n",
    "                    self.w += lr * error * X[i, :]\n",
    "                    self.b += lr * error\n",
    "\n",
    "            epoch += 1\n",
    "            loss = sum(abs(y - self.predict(X)))\n",
    "            self.cost.append(loss)\n",
    "            converged = loss == 0\n",
    "\n",
    "            if verbose == True:\n",
    "                print('Epoch: %d \\t Loss: %1.2f' % (epoch, loss))\n",
    "\n",
    "            if converged: print('\\nIt converged!')\n",
    "            if epoch == max_ep: print('\\nEpochs limit reached!')\n"
   ]
  },
  {
   "cell_type": "markdown",
   "id": "d42601aa",
   "metadata": {
    "pycharm": {
     "name": "#%% md\n"
    }
   },
   "source": [
    "We can now test our Perceptron with a dataset. We use the the toy dataset ```iris``` available in the ```sklearn``` package. \n",
    "\n",
    "Also, we plot in the end the loss at each cycle, to see how it becomes lower and lower (namely, it's *converging*)."
   ]
  },
  {
   "cell_type": "code",
   "execution_count": 4,
   "id": "81ad94c9",
   "metadata": {
    "scrolled": false,
    "pycharm": {
     "name": "#%%\n"
    }
   },
   "outputs": [
    {
     "name": "stdout",
     "output_type": "stream",
     "text": [
      "\n",
      "Epochs limit reached!\n",
      "\n",
      "Accuracy: 96.0\n"
     ]
    },
    {
     "data": {
      "image/png": "[encoded data removed]",
      "text/plain": [
       "<Figure size 432x288 with 1 Axes>"
      ]
     },
     "metadata": {
      "needs_background": "light"
     },
     "output_type": "display_data"
    }
   ],
   "source": [
    "from sklearn import datasets\n",
    "import matplotlib.pyplot as plt\n",
    "\n",
    "iris = datasets.load_iris()\n",
    "X = iris.data[:100, 0:2]\n",
    "y = iris.target[:100]\n",
    "\n",
    "# shuffle dataset\n",
    "idx = np.arange(y.shape[0])\n",
    "np.random.shuffle(idx)\n",
    "X = X[idx, :]\n",
    "y = y[idx]\n",
    "\n",
    "perc = myPerceptron()\n",
    "perc.train(X, y, lr=.001, max_ep=100)\n",
    "\n",
    "pred = perc.predict(X)\n",
    "accuracy = 100 * sum(y == pred) / float(len(y))\n",
    "print('\\nAccuracy: %1.1f' % accuracy)\n",
    "\n",
    "plt.plot(perc.cost)\n",
    "plt.xlabel('epochs')\n",
    "plt.ylabel('error')\n",
    "plt.title('Error over epochs')\n",
    "plt.show()"
   ]
  },
  {
   "cell_type": "markdown",
   "id": "98e8204e",
   "metadata": {
    "pycharm": {
     "name": "#%% md\n"
    }
   },
   "source": [
    "# First Neural Network"
   ]
  },
  {
   "cell_type": "code",
   "execution_count": 13,
   "id": "873fd2c1",
   "metadata": {
    "pycharm": {
     "name": "#%%\n"
    }
   },
   "outputs": [],
   "source": [
    "import numpy as np\n",
    "\n",
    "\n",
    "class myNN:\n",
    "\n",
    "    def __init__(self):\n",
    "        self.w1 = np.random.rand()\n",
    "        self.w2 = np.random.rand()\n",
    "\n",
    "        self.b1 = np.random.rand()\n",
    "        self.b2 = np.random.rand()\n",
    "\n",
    "    def act(self, z):\n",
    "        return 1 / (1 + np.exp(-z))  # sigmoid\n",
    "\n",
    "    def cutoff(self, z):\n",
    "        if z > 0.5:\n",
    "            return 1\n",
    "        else:\n",
    "            return 0\n",
    "\n",
    "    def train(self, x, y, lr=.01, max_e=1000):\n",
    "\n",
    "        self.loss = []\n",
    "\n",
    "        for e in range(max_e):\n",
    "\n",
    "            loss_e = []\n",
    "\n",
    "            for i in range(len(y)):\n",
    "                \"\"\" Forward \"\"\"\n",
    "\n",
    "                \"\"\" x → +b1 → [z1|a1] → +b2 → [z2|a2] → L \"\"\"\n",
    "\n",
    "                # z1 = x    * w1      + b1\n",
    "                z1 = x[i] * self.w1 + self.b1\n",
    "                #print('z1:',z1)\n",
    "                # a1 = f(z1)\n",
    "                a1 = self.act(z1)\n",
    "\n",
    "                # z2 = a1 * w2      + b2\n",
    "                z2 = a1 * self.w2 + self.b2\n",
    "                # a2 = f(z2)\n",
    "                a2 = self.act(z2)\n",
    "\n",
    "                yhat = a2  # output\n",
    "\n",
    "                \"\"\" Backward \"\"\"\n",
    "\n",
    "                loss_e.append((yhat - y[i]) ** 2)\n",
    "\n",
    "                dL_yhat = 2 * (yhat - y[i])\n",
    "                dyhat_z2 = self.act(z2) * (1 - self.act(z2))\n",
    "                dz2_w2 = a1\n",
    "                dL_w2 = dL_yhat * dyhat_z2 * dz2_w2\n",
    "\n",
    "                dz2_a1 = self.w2\n",
    "                da1_z1 = self.act(z1) * (1 - self.act(z1))\n",
    "                dz1_w1 = x[i]\n",
    "\n",
    "                dL_w1 = dL_yhat * dyhat_z2 * dz2_a1 * da1_z1 * dz1_w1\n",
    "\n",
    "                \"\"\" Update parameters \"\"\"\n",
    "\n",
    "                self.w2 -= lr * dL_w2\n",
    "                self.w1 -= lr * dL_w1\n",
    "\n",
    "                self.b2 -= lr * (dL_yhat * dyhat_z2)\n",
    "                self.b1 -= lr * (dL_yhat * dyhat_z2 * dz2_a1 * da1_z1)\n",
    "\n",
    "            self.loss.append(np.mean(loss_e))\n",
    "\n",
    "    def predict(self, x):\n",
    "\n",
    "        preds = []\n",
    "\n",
    "        for i in range(len(x)):\n",
    "            z1 = x[i] * self.w1 + self.b1\n",
    "            a1 = self.act(z1)\n",
    "            z2 = a1 * self.w2 + self.b2\n",
    "            yhat = self.act(z2)\n",
    "\n",
    "            out = self.cutoff(yhat)\n",
    "            preds.append(out)\n",
    "\n",
    "        return preds\n"
   ]
  },
  {
   "cell_type": "code",
   "execution_count": 25,
   "id": "fb8b0c14",
   "metadata": {
    "scrolled": false,
    "pycharm": {
     "name": "#%%\n"
    }
   },
   "outputs": [
    {
     "name": "stdout",
     "output_type": "stream",
     "text": [
      "\n",
      "Accuracy: 80.0\n"
     ]
    },
    {
     "data": {
      "image/png": "[encoded data removed]",
      "text/plain": [
       "<Figure size 432x288 with 1 Axes>"
      ]
     },
     "metadata": {
      "needs_background": "light"
     },
     "output_type": "display_data"
    }
   ],
   "source": [
    "from sklearn import datasets\n",
    "import matplotlib.pyplot as plt\n",
    "\n",
    "iris = datasets.load_iris()\n",
    "X = iris.data[:100, 1]\n",
    "y = iris.target[:100]\n",
    "\n",
    "nn = myNN()\n",
    "\n",
    "nn.train(X, y, lr=.01, max_e=1000)\n",
    "\n",
    "pred = nn.predict(X)\n",
    "\n",
    "accuracy = 100 * sum(y == pred) / float(len(y))\n",
    "print('\\nAccuracy: %1.1f' % accuracy)\n",
    "\n",
    "plt.plot(nn.loss)\n",
    "plt.xlabel('epochs')\n",
    "plt.ylabel('error')\n",
    "plt.title('Error over epochs')\n",
    "plt.show()\n"
   ]
  }
 ],
 "metadata": {
  "kernelspec": {
   "display_name": "Python 3",
   "language": "python",
   "name": "python3"
  },
  "language_info": {
   "codemirror_mode": {
    "name": "ipython",
    "version": 3
   },
   "file_extension": ".py",
   "mimetype": "text/x-python",
   "name": "python",
   "nbconvert_exporter": "python",
   "pygments_lexer": "ipython3",
   "version": "3.8.8"
  },
  "toc": {
   "base_numbering": 1,
   "nav_menu": {},
   "number_sections": false,
   "sideBar": true,
   "skip_h1_title": false,
   "title_cell": "Table of Contents",
   "title_sidebar": "Contents",
   "toc_cell": false,
   "toc_position": {},
   "toc_section_display": true,
   "toc_window_display": false
  }
 },
 "nbformat": 4,
 "nbformat_minor": 5
}